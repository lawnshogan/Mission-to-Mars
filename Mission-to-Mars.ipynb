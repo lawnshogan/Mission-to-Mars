{
 "cells": [
  {
   "cell_type": "code",
   "execution_count": 1,
   "id": "1157b192",
   "metadata": {},
   "outputs": [],
   "source": [
    "# Import Splinter and BeautifulSoup\n",
    "from splinter import Browser\n",
    "from bs4 import BeautifulSoup as soup\n",
    "from webdriver_manager.chrome import ChromeDriverManager"
   ]
  },
  {
   "cell_type": "code",
   "execution_count": null,
   "id": "e6444ce9",
   "metadata": {},
   "outputs": [],
   "source": [
    "# Set your executable path"
   ]
  }
 ],
 "metadata": {
  "interpreter": {
   "hash": "da3e6564f5600e3c1bb78cea8752fc66fa7968c1fa6c49b16ae3c6affcd7cd84"
  },
  "kernelspec": {
   "display_name": "Python 3.9.7 ('MasterVE')",
   "language": "python",
   "name": "python3"
  },
  "language_info": {
   "codemirror_mode": {
    "name": "ipython",
    "version": 3
   },
   "file_extension": ".py",
   "mimetype": "text/x-python",
   "name": "python",
   "nbconvert_exporter": "python",
   "pygments_lexer": "ipython3",
   "version": "3.9.7"
  }
 },
 "nbformat": 4,
 "nbformat_minor": 5
}
