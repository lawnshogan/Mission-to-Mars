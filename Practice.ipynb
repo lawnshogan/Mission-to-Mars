{
 "cells": [
  {
   "cell_type": "code",
   "execution_count": 4,
   "id": "fbc9cf50",
   "metadata": {},
   "outputs": [],
   "source": [
    "# Imports the required dependencies to successfully scrape the webpage\n",
    "from splinter import Browser\n",
    "from bs4 import BeautifulSoup as soup # soup is alias\n",
    "from webdriver_manager.chrome import ChromeDriverManager"
   ]
  },
  {
   "cell_type": "code",
   "execution_count": 5,
   "id": "82475f7f",
   "metadata": {},
   "outputs": [
    {
     "name": "stderr",
     "output_type": "stream",
     "text": [
      "\n",
      "\n",
      "====== WebDriver manager ======\n",
      "Current google-chrome version is 101.0.4951\n",
      "Get LATEST chromedriver version for 101.0.4951 google-chrome\n",
      "Driver [C:\\Users\\shawn\\.wdm\\drivers\\chromedriver\\win32\\101.0.4951.41\\chromedriver.exe] found in cache\n"
     ]
    }
   ],
   "source": [
    "# Set the executable path and initialize a browser\n",
    "# Set up Splinter\n",
    "# We are creating an instance of a Splinter browser. \n",
    "# This means that we're prepping our automated browser. \n",
    "# We're also specifying that we'll be using Chrome as our browser. \n",
    "# **executable_path is unpacking the dictionary we've stored the path \n",
    "# in – think of it as unpacking a suitcase. headless=False means that \n",
    "# all of the browser's actions will be displayed in a Chrome window so \n",
    "# we can see them.\n",
    "\n",
    "# Sets the executable path and initializes the Chrome browser in Splinter\n",
    "executable_path = {'executable_path': ChromeDriverManager().install()}\n",
    "browser = Browser('chrome', **executable_path, headless=False)"
   ]
  },
  {
   "cell_type": "code",
   "execution_count": 6,
   "id": "381af5da",
   "metadata": {},
   "outputs": [],
   "source": [
    "# Scrape the title\n",
    "# Visit the Quotes to Scrape site\n",
    "url = 'http://quotes.toscrape.com/'\n",
    "browser.visit(url)"
   ]
  },
  {
   "cell_type": "code",
   "execution_count": 7,
   "id": "7f6b4ee6",
   "metadata": {},
   "outputs": [],
   "source": [
    "# Use BeautifulSoup to parse the HTML\n",
    "# Parse the HTML\n",
    "html = browser.html\n",
    "html_soup = soup(html, 'html.parser')"
   ]
  },
  {
   "cell_type": "code",
   "execution_count": 9,
   "id": "de7e98a7",
   "metadata": {},
   "outputs": [
    {
     "data": {
      "text/plain": [
       "'Top Ten tags'"
      ]
     },
     "execution_count": 9,
     "metadata": {},
     "output_type": "execute_result"
    }
   ],
   "source": [
    "# Find title and extract it\n",
    "# Scrape the Title\n",
    "# We used our html_soup object we created earlier and \n",
    "# chained find() to it to search for the <h2 /> tag.\n",
    "# Also extracted only the text within the HTML tags by adding .text to the end of the code.\n",
    "title = html_soup.find('h2').text\n",
    "title"
   ]
  }
 ],
 "metadata": {
  "interpreter": {
   "hash": "da3e6564f5600e3c1bb78cea8752fc66fa7968c1fa6c49b16ae3c6affcd7cd84"
  },
  "kernelspec": {
   "display_name": "Python 3.9.7 ('MasterVE')",
   "language": "python",
   "name": "python3"
  },
  "language_info": {
   "codemirror_mode": {
    "name": "ipython",
    "version": 3
   },
   "file_extension": ".py",
   "mimetype": "text/x-python",
   "name": "python",
   "nbconvert_exporter": "python",
   "pygments_lexer": "ipython3",
   "version": "3.9.7"
  }
 },
 "nbformat": 4,
 "nbformat_minor": 5
}
