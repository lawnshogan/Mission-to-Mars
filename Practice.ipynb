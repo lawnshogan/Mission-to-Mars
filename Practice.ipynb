{
 "cells": [
  {
   "cell_type": "code",
   "execution_count": 2,
   "id": "fbc9cf50",
   "metadata": {},
   "outputs": [],
   "source": [
    "# Import scraping tools\n",
    "from splinter import Browser\n",
    "from bs4 import BeautifulSoup as soup # soup is alias\n",
    "from webdriver_manager.chrome import ChromeDriverManager"
   ]
  },
  {
   "cell_type": "code",
   "execution_count": 3,
   "id": "82475f7f",
   "metadata": {},
   "outputs": [
    {
     "name": "stderr",
     "output_type": "stream",
     "text": [
      "\n",
      "\n",
      "====== WebDriver manager ======\n",
      "Current google-chrome version is 101.0.4951\n",
      "Get LATEST chromedriver version for 101.0.4951 google-chrome\n",
      "There is no [win32] chromedriver for browser 101.0.4951 in cache\n",
      "Trying to download new driver from https://chromedriver.storage.googleapis.com/101.0.4951.41/chromedriver_win32.zip\n",
      "Driver has been saved in cache [C:\\Users\\shawn\\.wdm\\drivers\\chromedriver\\win32\\101.0.4951.41]\n"
     ]
    }
   ],
   "source": [
    "# Set the executable path and initialize a browser\n",
    "# Set up Splinter\n",
    "# We are creating an instance of a Splinter browser. \n",
    "# This means that we're prepping our automated browser. \n",
    "# We're also specifying that we'll be using Chrome as our browser. \n",
    "# **executable_path is unpacking the dictionary we've stored the path \n",
    "# in – think of it as unpacking a suitcase. headless=False means that \n",
    "# all of the browser's actions will be displayed in a Chrome window so \n",
    "# we can see them.\n",
    "executable_path = {'executable_path': ChromeDriverManager().install()}\n",
    "browser = Browser('chrome', **executable_path, headless=False)"
   ]
  }
 ],
 "metadata": {
  "interpreter": {
   "hash": "da3e6564f5600e3c1bb78cea8752fc66fa7968c1fa6c49b16ae3c6affcd7cd84"
  },
  "kernelspec": {
   "display_name": "Python 3.9.7 ('MasterVE')",
   "language": "python",
   "name": "python3"
  },
  "language_info": {
   "codemirror_mode": {
    "name": "ipython",
    "version": 3
   },
   "file_extension": ".py",
   "mimetype": "text/x-python",
   "name": "python",
   "nbconvert_exporter": "python",
   "pygments_lexer": "ipython3",
   "version": "3.9.7"
  }
 },
 "nbformat": 4,
 "nbformat_minor": 5
}
